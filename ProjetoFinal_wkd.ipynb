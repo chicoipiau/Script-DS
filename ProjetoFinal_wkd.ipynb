{
 "cells": [
  {
   "cell_type": "markdown",
   "metadata": {},
   "source": [
    "# testar alguns modelos de machine learn para \n",
    "\n",
    "Perguntas dessa tarefa\n",
    "\"Nossa taxa de inadimplência é de 35%. Você acha que com o uso das suas técnicas, conseguimos baixar este índice para pelo menos, 25%?\"\n",
    "\n",
    "Crie um modelos de machine learning e tente chegar a um índice de inadimplência aproximado, de 25%.\n",
    "\n",
    "Francisco Santos"
   ]
  },
  {
   "cell_type": "markdown",
   "metadata": {},
   "source": [
    "# Bibliotecas"
   ]
  },
  {
   "cell_type": "code",
   "execution_count": 41,
   "metadata": {},
   "outputs": [],
   "source": [
    "import pandas as pd\n",
    "import numpy as np\n",
    "#visualização\n",
    "import matplotlib.pyplot as plt \n",
    "%matplotlib inline\n",
    "import seaborn as sns\n",
    "# ML Naive Bayes\n",
    "from sklearn.model_selection import train_test_split\n",
    "from sklearn.naive_bayes import GaussianNB\n",
    "from sklearn.preprocessing import LabelEncoder\n",
    "from sklearn.metrics import confusion_matrix, accuracy_score\n",
    "from yellowbrick.classifier import ConfusionMatrix"
   ]
  },
  {
   "cell_type": "markdown",
   "metadata": {},
   "source": [
    "# Importações dos dados"
   ]
  },
  {
   "cell_type": "code",
   "execution_count": 2,
   "metadata": {},
   "outputs": [],
   "source": [
    "df = pd.read_csv('Credito1.csv' , engine = 'python',sep=';')"
   ]
  },
  {
   "cell_type": "markdown",
   "metadata": {},
   "source": [
    "# Entendendo os dados"
   ]
  },
  {
   "cell_type": "code",
   "execution_count": 74,
   "metadata": {},
   "outputs": [
    {
     "data": {
      "text/html": [
       "<div>\n",
       "<style scoped>\n",
       "    .dataframe tbody tr th:only-of-type {\n",
       "        vertical-align: middle;\n",
       "    }\n",
       "\n",
       "    .dataframe tbody tr th {\n",
       "        vertical-align: top;\n",
       "    }\n",
       "\n",
       "    .dataframe thead th {\n",
       "        text-align: right;\n",
       "    }\n",
       "</style>\n",
       "<table border=\"1\" class=\"dataframe\">\n",
       "  <thead>\n",
       "    <tr style=\"text-align: right;\">\n",
       "      <th></th>\n",
       "      <th>0</th>\n",
       "      <th>1</th>\n",
       "      <th>2</th>\n",
       "      <th>3</th>\n",
       "      <th>4</th>\n",
       "    </tr>\n",
       "  </thead>\n",
       "  <tbody>\n",
       "    <tr>\n",
       "      <th>CHEQUEESPECIAL</th>\n",
       "      <td>&lt;0</td>\n",
       "      <td>0&lt;=X&lt;200</td>\n",
       "      <td>sem cheque</td>\n",
       "      <td>&lt;0</td>\n",
       "      <td>&lt;0</td>\n",
       "    </tr>\n",
       "    <tr>\n",
       "      <th>USO_CREDITO</th>\n",
       "      <td>6</td>\n",
       "      <td>48</td>\n",
       "      <td>12</td>\n",
       "      <td>42</td>\n",
       "      <td>24</td>\n",
       "    </tr>\n",
       "    <tr>\n",
       "      <th>HISTORICO_CREDITO</th>\n",
       "      <td>crítica / outros de crédito existente</td>\n",
       "      <td>existente e pago</td>\n",
       "      <td>crítica / outros de crédito existente</td>\n",
       "      <td>existente e pago</td>\n",
       "      <td>atrasos anteriores</td>\n",
       "    </tr>\n",
       "    <tr>\n",
       "      <th>PROPOSITO</th>\n",
       "      <td>Computador/TV</td>\n",
       "      <td>Computador/TV</td>\n",
       "      <td>educação</td>\n",
       "      <td>mobilia/equipamento</td>\n",
       "      <td>carro novo</td>\n",
       "    </tr>\n",
       "    <tr>\n",
       "      <th>BALANCO_ATUAL</th>\n",
       "      <td>1169</td>\n",
       "      <td>5951</td>\n",
       "      <td>2096</td>\n",
       "      <td>7882</td>\n",
       "      <td>4870</td>\n",
       "    </tr>\n",
       "    <tr>\n",
       "      <th>BALANCO_MEDIO_CREDITO</th>\n",
       "      <td>nenhuma economia conhecida</td>\n",
       "      <td>&lt;100</td>\n",
       "      <td>&lt;100</td>\n",
       "      <td>&lt;100</td>\n",
       "      <td>&lt;100</td>\n",
       "    </tr>\n",
       "    <tr>\n",
       "      <th>EMPREGADO</th>\n",
       "      <td>&gt;=7</td>\n",
       "      <td>1&lt;=X&lt;4</td>\n",
       "      <td>4&lt;=X&lt;7</td>\n",
       "      <td>4&lt;=X&lt;7</td>\n",
       "      <td>1&lt;=X&lt;4</td>\n",
       "    </tr>\n",
       "    <tr>\n",
       "      <th>LOCAL</th>\n",
       "      <td>4</td>\n",
       "      <td>2</td>\n",
       "      <td>2</td>\n",
       "      <td>2</td>\n",
       "      <td>3</td>\n",
       "    </tr>\n",
       "    <tr>\n",
       "      <th>ESTADOCIVIL</th>\n",
       "      <td>masculino solteiro</td>\n",
       "      <td>fem div/cas</td>\n",
       "      <td>masculino solteiro</td>\n",
       "      <td>masculino solteiro</td>\n",
       "      <td>masculino solteiro</td>\n",
       "    </tr>\n",
       "    <tr>\n",
       "      <th>OUTRASFUNCOES</th>\n",
       "      <td>nenhum</td>\n",
       "      <td>nenhum</td>\n",
       "      <td>nenhum</td>\n",
       "      <td>fiador</td>\n",
       "      <td>nenhum</td>\n",
       "    </tr>\n",
       "    <tr>\n",
       "      <th>RESIDENCIADESDE</th>\n",
       "      <td>4</td>\n",
       "      <td>2</td>\n",
       "      <td>3</td>\n",
       "      <td>4</td>\n",
       "      <td>4</td>\n",
       "    </tr>\n",
       "    <tr>\n",
       "      <th>TIPOSBENS</th>\n",
       "      <td>bens imóveis</td>\n",
       "      <td>bens imóveis</td>\n",
       "      <td>bens imóveis</td>\n",
       "      <td>seguro de vida</td>\n",
       "      <td>nenhuma conhecida</td>\n",
       "    </tr>\n",
       "    <tr>\n",
       "      <th>IDADE</th>\n",
       "      <td>67</td>\n",
       "      <td>22</td>\n",
       "      <td>49</td>\n",
       "      <td>45</td>\n",
       "      <td>53</td>\n",
       "    </tr>\n",
       "    <tr>\n",
       "      <th>OUTROSPLANOSPGTO</th>\n",
       "      <td>nenhum</td>\n",
       "      <td>nenhum</td>\n",
       "      <td>nenhum</td>\n",
       "      <td>nenhum</td>\n",
       "      <td>nenhum</td>\n",
       "    </tr>\n",
       "    <tr>\n",
       "      <th>RESIDENCIA</th>\n",
       "      <td>própria</td>\n",
       "      <td>própria</td>\n",
       "      <td>própria</td>\n",
       "      <td>gratuitamente</td>\n",
       "      <td>gratuitamente</td>\n",
       "    </tr>\n",
       "    <tr>\n",
       "      <th>CREDITOSEXISTENTES</th>\n",
       "      <td>2</td>\n",
       "      <td>1</td>\n",
       "      <td>1</td>\n",
       "      <td>1</td>\n",
       "      <td>2</td>\n",
       "    </tr>\n",
       "    <tr>\n",
       "      <th>EMPREGO</th>\n",
       "      <td>especializado</td>\n",
       "      <td>especializado</td>\n",
       "      <td>não especializado</td>\n",
       "      <td>especializado</td>\n",
       "      <td>especializado</td>\n",
       "    </tr>\n",
       "    <tr>\n",
       "      <th>DEPENDENTES</th>\n",
       "      <td>1</td>\n",
       "      <td>1</td>\n",
       "      <td>2</td>\n",
       "      <td>2</td>\n",
       "      <td>2</td>\n",
       "    </tr>\n",
       "    <tr>\n",
       "      <th>TRABAESTRANGEIRO</th>\n",
       "      <td>sim</td>\n",
       "      <td>sim</td>\n",
       "      <td>sim</td>\n",
       "      <td>sim</td>\n",
       "      <td>sim</td>\n",
       "    </tr>\n",
       "    <tr>\n",
       "      <th>CLASSE</th>\n",
       "      <td>bom</td>\n",
       "      <td>ruim</td>\n",
       "      <td>bom</td>\n",
       "      <td>bom</td>\n",
       "      <td>ruim</td>\n",
       "    </tr>\n",
       "  </tbody>\n",
       "</table>\n",
       "</div>"
      ],
      "text/plain": [
       "                                                           0  \\\n",
       "CHEQUEESPECIAL                                            <0   \n",
       "USO_CREDITO                                                6   \n",
       "HISTORICO_CREDITO      crítica / outros de crédito existente   \n",
       "PROPOSITO                                      Computador/TV   \n",
       "BALANCO_ATUAL                                           1169   \n",
       "BALANCO_MEDIO_CREDITO             nenhuma economia conhecida   \n",
       "EMPREGADO                                                >=7   \n",
       "LOCAL                                                      4   \n",
       "ESTADOCIVIL                               masculino solteiro   \n",
       "OUTRASFUNCOES                                         nenhum   \n",
       "RESIDENCIADESDE                                            4   \n",
       "TIPOSBENS                                       bens imóveis   \n",
       "IDADE                                                     67   \n",
       "OUTROSPLANOSPGTO                                      nenhum   \n",
       "RESIDENCIA                                           própria   \n",
       "CREDITOSEXISTENTES                                         2   \n",
       "EMPREGO                                        especializado   \n",
       "DEPENDENTES                                                1   \n",
       "TRABAESTRANGEIRO                                         sim   \n",
       "CLASSE                                                   bom   \n",
       "\n",
       "                                      1  \\\n",
       "CHEQUEESPECIAL                 0<=X<200   \n",
       "USO_CREDITO                          48   \n",
       "HISTORICO_CREDITO      existente e pago   \n",
       "PROPOSITO                 Computador/TV   \n",
       "BALANCO_ATUAL                      5951   \n",
       "BALANCO_MEDIO_CREDITO              <100   \n",
       "EMPREGADO                        1<=X<4   \n",
       "LOCAL                                 2   \n",
       "ESTADOCIVIL                 fem div/cas   \n",
       "OUTRASFUNCOES                    nenhum   \n",
       "RESIDENCIADESDE                       2   \n",
       "TIPOSBENS                  bens imóveis   \n",
       "IDADE                                22   \n",
       "OUTROSPLANOSPGTO                 nenhum   \n",
       "RESIDENCIA                      própria   \n",
       "CREDITOSEXISTENTES                    1   \n",
       "EMPREGO                   especializado   \n",
       "DEPENDENTES                           1   \n",
       "TRABAESTRANGEIRO                    sim   \n",
       "CLASSE                             ruim   \n",
       "\n",
       "                                                           2  \\\n",
       "CHEQUEESPECIAL                                    sem cheque   \n",
       "USO_CREDITO                                               12   \n",
       "HISTORICO_CREDITO      crítica / outros de crédito existente   \n",
       "PROPOSITO                                           educação   \n",
       "BALANCO_ATUAL                                           2096   \n",
       "BALANCO_MEDIO_CREDITO                                   <100   \n",
       "EMPREGADO                                             4<=X<7   \n",
       "LOCAL                                                      2   \n",
       "ESTADOCIVIL                               masculino solteiro   \n",
       "OUTRASFUNCOES                                         nenhum   \n",
       "RESIDENCIADESDE                                            3   \n",
       "TIPOSBENS                                       bens imóveis   \n",
       "IDADE                                                     49   \n",
       "OUTROSPLANOSPGTO                                      nenhum   \n",
       "RESIDENCIA                                           própria   \n",
       "CREDITOSEXISTENTES                                         1   \n",
       "EMPREGO                                    não especializado   \n",
       "DEPENDENTES                                                2   \n",
       "TRABAESTRANGEIRO                                         sim   \n",
       "CLASSE                                                   bom   \n",
       "\n",
       "                                         3                   4  \n",
       "CHEQUEESPECIAL                          <0                  <0  \n",
       "USO_CREDITO                             42                  24  \n",
       "HISTORICO_CREDITO         existente e pago  atrasos anteriores  \n",
       "PROPOSITO              mobilia/equipamento          carro novo  \n",
       "BALANCO_ATUAL                         7882                4870  \n",
       "BALANCO_MEDIO_CREDITO                 <100                <100  \n",
       "EMPREGADO                           4<=X<7              1<=X<4  \n",
       "LOCAL                                    2                   3  \n",
       "ESTADOCIVIL             masculino solteiro  masculino solteiro  \n",
       "OUTRASFUNCOES                       fiador              nenhum  \n",
       "RESIDENCIADESDE                          4                   4  \n",
       "TIPOSBENS                   seguro de vida   nenhuma conhecida  \n",
       "IDADE                                   45                  53  \n",
       "OUTROSPLANOSPGTO                    nenhum              nenhum  \n",
       "RESIDENCIA                   gratuitamente       gratuitamente  \n",
       "CREDITOSEXISTENTES                       1                   2  \n",
       "EMPREGO                      especializado       especializado  \n",
       "DEPENDENTES                              2                   2  \n",
       "TRABAESTRANGEIRO                       sim                 sim  \n",
       "CLASSE                                 bom                ruim  "
      ]
     },
     "execution_count": 74,
     "metadata": {},
     "output_type": "execute_result"
    }
   ],
   "source": [
    "# Visualizar a primeira linhas\n",
    "df.head().T"
   ]
  },
  {
   "cell_type": "code",
   "execution_count": 9,
   "metadata": {},
   "outputs": [
    {
     "name": "stdout",
     "output_type": "stream",
     "text": [
      "<class 'pandas.core.frame.DataFrame'>\n",
      "RangeIndex: 1000 entries, 0 to 999\n",
      "Data columns (total 20 columns):\n",
      "CHEQUEESPECIAL           1000 non-null object\n",
      "USO_CREDITO              1000 non-null int64\n",
      "HISTORICO_CREDITO        1000 non-null object\n",
      "PROPOSITO                1000 non-null object\n",
      "BALANCO_ATUAL            1000 non-null int64\n",
      "BALANCO_MEDIO_CREDITO    1000 non-null object\n",
      "EMPREGADO                1000 non-null object\n",
      "LOCAL                    1000 non-null int64\n",
      "ESTADOCIVIL              1000 non-null object\n",
      "OUTRASFUNCOES            1000 non-null object\n",
      "RESIDENCIADESDE          1000 non-null int64\n",
      "TIPOSBENS                1000 non-null object\n",
      "IDADE                    1000 non-null int64\n",
      "OUTROSPLANOSPGTO         1000 non-null object\n",
      "RESIDENCIA               1000 non-null object\n",
      "CREDITOSEXISTENTES       1000 non-null int64\n",
      "EMPREGO                  1000 non-null object\n",
      "DEPENDENTES              1000 non-null int64\n",
      "TRABAESTRANGEIRO         1000 non-null object\n",
      "CLASSE                   1000 non-null object\n",
      "dtypes: int64(7), object(13)\n",
      "memory usage: 156.3+ KB\n"
     ]
    }
   ],
   "source": [
    "# informações do dataframe \n",
    "df.info()"
   ]
  },
  {
   "cell_type": "code",
   "execution_count": 12,
   "metadata": {},
   "outputs": [
    {
     "data": {
      "text/plain": [
       "CHEQUEESPECIAL           0\n",
       "USO_CREDITO              0\n",
       "HISTORICO_CREDITO        0\n",
       "PROPOSITO                0\n",
       "BALANCO_ATUAL            0\n",
       "BALANCO_MEDIO_CREDITO    0\n",
       "EMPREGADO                0\n",
       "LOCAL                    0\n",
       "ESTADOCIVIL              0\n",
       "OUTRASFUNCOES            0\n",
       "RESIDENCIADESDE          0\n",
       "TIPOSBENS                0\n",
       "IDADE                    0\n",
       "OUTROSPLANOSPGTO         0\n",
       "RESIDENCIA               0\n",
       "CREDITOSEXISTENTES       0\n",
       "EMPREGO                  0\n",
       "DEPENDENTES              0\n",
       "TRABAESTRANGEIRO         0\n",
       "CLASSE                   0\n",
       "dtype: int64"
      ]
     },
     "execution_count": 12,
     "metadata": {},
     "output_type": "execute_result"
    }
   ],
   "source": [
    "# verificando quais colunas tem valores nulos \n",
    "df.isnull().sum()"
   ]
  },
  {
   "cell_type": "code",
   "execution_count": 13,
   "metadata": {},
   "outputs": [
    {
     "data": {
      "text/html": [
       "<div>\n",
       "<style scoped>\n",
       "    .dataframe tbody tr th:only-of-type {\n",
       "        vertical-align: middle;\n",
       "    }\n",
       "\n",
       "    .dataframe tbody tr th {\n",
       "        vertical-align: top;\n",
       "    }\n",
       "\n",
       "    .dataframe thead th {\n",
       "        text-align: right;\n",
       "    }\n",
       "</style>\n",
       "<table border=\"1\" class=\"dataframe\">\n",
       "  <thead>\n",
       "    <tr style=\"text-align: right;\">\n",
       "      <th></th>\n",
       "      <th>USO_CREDITO</th>\n",
       "      <th>BALANCO_ATUAL</th>\n",
       "      <th>LOCAL</th>\n",
       "      <th>RESIDENCIADESDE</th>\n",
       "      <th>IDADE</th>\n",
       "      <th>CREDITOSEXISTENTES</th>\n",
       "      <th>DEPENDENTES</th>\n",
       "    </tr>\n",
       "  </thead>\n",
       "  <tbody>\n",
       "    <tr>\n",
       "      <th>count</th>\n",
       "      <td>1000.000000</td>\n",
       "      <td>1000.000000</td>\n",
       "      <td>1000.000000</td>\n",
       "      <td>1000.000000</td>\n",
       "      <td>1000.000000</td>\n",
       "      <td>1000.000000</td>\n",
       "      <td>1000.000000</td>\n",
       "    </tr>\n",
       "    <tr>\n",
       "      <th>mean</th>\n",
       "      <td>20.903000</td>\n",
       "      <td>3271.258000</td>\n",
       "      <td>2.973000</td>\n",
       "      <td>2.845000</td>\n",
       "      <td>35.546000</td>\n",
       "      <td>1.407000</td>\n",
       "      <td>1.155000</td>\n",
       "    </tr>\n",
       "    <tr>\n",
       "      <th>std</th>\n",
       "      <td>12.058814</td>\n",
       "      <td>2822.736876</td>\n",
       "      <td>1.118715</td>\n",
       "      <td>1.103718</td>\n",
       "      <td>11.375469</td>\n",
       "      <td>0.577654</td>\n",
       "      <td>0.362086</td>\n",
       "    </tr>\n",
       "    <tr>\n",
       "      <th>min</th>\n",
       "      <td>4.000000</td>\n",
       "      <td>250.000000</td>\n",
       "      <td>1.000000</td>\n",
       "      <td>1.000000</td>\n",
       "      <td>19.000000</td>\n",
       "      <td>1.000000</td>\n",
       "      <td>1.000000</td>\n",
       "    </tr>\n",
       "    <tr>\n",
       "      <th>25%</th>\n",
       "      <td>12.000000</td>\n",
       "      <td>1365.500000</td>\n",
       "      <td>2.000000</td>\n",
       "      <td>2.000000</td>\n",
       "      <td>27.000000</td>\n",
       "      <td>1.000000</td>\n",
       "      <td>1.000000</td>\n",
       "    </tr>\n",
       "    <tr>\n",
       "      <th>50%</th>\n",
       "      <td>18.000000</td>\n",
       "      <td>2319.500000</td>\n",
       "      <td>3.000000</td>\n",
       "      <td>3.000000</td>\n",
       "      <td>33.000000</td>\n",
       "      <td>1.000000</td>\n",
       "      <td>1.000000</td>\n",
       "    </tr>\n",
       "    <tr>\n",
       "      <th>75%</th>\n",
       "      <td>24.000000</td>\n",
       "      <td>3972.250000</td>\n",
       "      <td>4.000000</td>\n",
       "      <td>4.000000</td>\n",
       "      <td>42.000000</td>\n",
       "      <td>2.000000</td>\n",
       "      <td>1.000000</td>\n",
       "    </tr>\n",
       "    <tr>\n",
       "      <th>max</th>\n",
       "      <td>72.000000</td>\n",
       "      <td>18424.000000</td>\n",
       "      <td>4.000000</td>\n",
       "      <td>4.000000</td>\n",
       "      <td>75.000000</td>\n",
       "      <td>4.000000</td>\n",
       "      <td>2.000000</td>\n",
       "    </tr>\n",
       "  </tbody>\n",
       "</table>\n",
       "</div>"
      ],
      "text/plain": [
       "       USO_CREDITO  BALANCO_ATUAL        LOCAL  RESIDENCIADESDE        IDADE  \\\n",
       "count  1000.000000    1000.000000  1000.000000      1000.000000  1000.000000   \n",
       "mean     20.903000    3271.258000     2.973000         2.845000    35.546000   \n",
       "std      12.058814    2822.736876     1.118715         1.103718    11.375469   \n",
       "min       4.000000     250.000000     1.000000         1.000000    19.000000   \n",
       "25%      12.000000    1365.500000     2.000000         2.000000    27.000000   \n",
       "50%      18.000000    2319.500000     3.000000         3.000000    33.000000   \n",
       "75%      24.000000    3972.250000     4.000000         4.000000    42.000000   \n",
       "max      72.000000   18424.000000     4.000000         4.000000    75.000000   \n",
       "\n",
       "       CREDITOSEXISTENTES  DEPENDENTES  \n",
       "count         1000.000000  1000.000000  \n",
       "mean             1.407000     1.155000  \n",
       "std              0.577654     0.362086  \n",
       "min              1.000000     1.000000  \n",
       "25%              1.000000     1.000000  \n",
       "50%              1.000000     1.000000  \n",
       "75%              2.000000     1.000000  \n",
       "max              4.000000     2.000000  "
      ]
     },
     "execution_count": 13,
     "metadata": {},
     "output_type": "execute_result"
    }
   ],
   "source": [
    "# dados Estatisticos \n",
    "df.describe()"
   ]
  },
  {
   "cell_type": "code",
   "execution_count": 14,
   "metadata": {},
   "outputs": [
    {
     "data": {
      "text/plain": [
       "CHEQUEESPECIAL           object\n",
       "USO_CREDITO               int64\n",
       "HISTORICO_CREDITO        object\n",
       "PROPOSITO                object\n",
       "BALANCO_ATUAL             int64\n",
       "BALANCO_MEDIO_CREDITO    object\n",
       "EMPREGADO                object\n",
       "LOCAL                     int64\n",
       "ESTADOCIVIL              object\n",
       "OUTRASFUNCOES            object\n",
       "RESIDENCIADESDE           int64\n",
       "TIPOSBENS                object\n",
       "IDADE                     int64\n",
       "OUTROSPLANOSPGTO         object\n",
       "RESIDENCIA               object\n",
       "CREDITOSEXISTENTES        int64\n",
       "EMPREGO                  object\n",
       "DEPENDENTES               int64\n",
       "TRABAESTRANGEIRO         object\n",
       "CLASSE                   object\n",
       "dtype: object"
      ]
     },
     "execution_count": 14,
     "metadata": {},
     "output_type": "execute_result"
    }
   ],
   "source": [
    "# Visualizando os tipos colunas\n",
    "df.dtypes"
   ]
  },
  {
   "cell_type": "code",
   "execution_count": 3,
   "metadata": {},
   "outputs": [
    {
     "data": {
      "text/plain": [
       "CLASSE\n",
       "bom     13445\n",
       "ruim     7458\n",
       "Name: USO_CREDITO, dtype: int64"
      ]
     },
     "execution_count": 3,
     "metadata": {},
     "output_type": "execute_result"
    }
   ],
   "source": [
    "# fazendo agrupamento por Classe somando a coluna Uso Credito \n",
    "agrupado= df.groupby(['CLASSE'])['USO_CREDITO'].sum()\n",
    "agrupado"
   ]
  },
  {
   "cell_type": "code",
   "execution_count": 4,
   "metadata": {},
   "outputs": [
    {
     "data": {
      "text/plain": [
       "CLASSE\n",
       "bom     36.224286\n",
       "ruim    33.963333\n",
       "Name: IDADE, dtype: float64"
      ]
     },
     "execution_count": 4,
     "metadata": {},
     "output_type": "execute_result"
    }
   ],
   "source": [
    "# fazendo agrupamento por Classe somando a coluna Uso Credito \n",
    "agrupado2= df.groupby(['CLASSE'])['IDADE'].mean()\n",
    "agrupado2"
   ]
  },
  {
   "cell_type": "code",
   "execution_count": 5,
   "metadata": {},
   "outputs": [
    {
     "data": {
      "text/plain": [
       "CLASSE\n",
       "bom     700\n",
       "ruim    300\n",
       "Name: CREDITOSEXISTENTES, dtype: int64"
      ]
     },
     "execution_count": 5,
     "metadata": {},
     "output_type": "execute_result"
    }
   ],
   "source": [
    "# fazendo agrupamento por Classe contando a coluna Uso Credito existentes\n",
    "agrupado3= df.groupby(['CLASSE'])['CREDITOSEXISTENTES'].count()\n",
    "agrupado3"
   ]
  },
  {
   "cell_type": "code",
   "execution_count": 7,
   "metadata": {},
   "outputs": [
    {
     "data": {
      "text/plain": [
       "CLASSE\n",
       "bom     809\n",
       "ruim    346\n",
       "Name: DEPENDENTES, dtype: int64"
      ]
     },
     "execution_count": 7,
     "metadata": {},
     "output_type": "execute_result"
    }
   ],
   "source": [
    "# fazendo agrupamento por Classe somando a coluna Uso Dependentes \n",
    "agrupado4= df.groupby(['CLASSE'])['DEPENDENTES'].sum()\n",
    "agrupado4"
   ]
  },
  {
   "cell_type": "code",
   "execution_count": 18,
   "metadata": {},
   "outputs": [
    {
     "data": {
      "text/html": [
       "<div>\n",
       "<style scoped>\n",
       "    .dataframe tbody tr th:only-of-type {\n",
       "        vertical-align: middle;\n",
       "    }\n",
       "\n",
       "    .dataframe tbody tr th {\n",
       "        vertical-align: top;\n",
       "    }\n",
       "\n",
       "    .dataframe thead th {\n",
       "        text-align: right;\n",
       "    }\n",
       "</style>\n",
       "<table border=\"1\" class=\"dataframe\">\n",
       "  <thead>\n",
       "    <tr style=\"text-align: right;\">\n",
       "      <th></th>\n",
       "      <th>CHEQUEESPECIAL</th>\n",
       "      <th>USO_CREDITO</th>\n",
       "      <th>HISTORICO_CREDITO</th>\n",
       "      <th>PROPOSITO</th>\n",
       "      <th>BALANCO_ATUAL</th>\n",
       "      <th>BALANCO_MEDIO_CREDITO</th>\n",
       "      <th>EMPREGADO</th>\n",
       "      <th>LOCAL</th>\n",
       "      <th>ESTADOCIVIL</th>\n",
       "      <th>OUTRASFUNCOES</th>\n",
       "      <th>RESIDENCIADESDE</th>\n",
       "      <th>TIPOSBENS</th>\n",
       "      <th>IDADE</th>\n",
       "      <th>OUTROSPLANOSPGTO</th>\n",
       "      <th>RESIDENCIA</th>\n",
       "      <th>CREDITOSEXISTENTES</th>\n",
       "      <th>EMPREGO</th>\n",
       "      <th>DEPENDENTES</th>\n",
       "      <th>TRABAESTRANGEIRO</th>\n",
       "      <th>CLASSE</th>\n",
       "    </tr>\n",
       "  </thead>\n",
       "  <tbody>\n",
       "    <tr>\n",
       "      <th>0</th>\n",
       "      <td>&lt;0</td>\n",
       "      <td>6</td>\n",
       "      <td>crítica / outros de crédito existente</td>\n",
       "      <td>Computador/TV</td>\n",
       "      <td>1169</td>\n",
       "      <td>nenhuma economia conhecida</td>\n",
       "      <td>&gt;=7</td>\n",
       "      <td>4</td>\n",
       "      <td>masculino solteiro</td>\n",
       "      <td>nenhum</td>\n",
       "      <td>4</td>\n",
       "      <td>bens imóveis</td>\n",
       "      <td>67</td>\n",
       "      <td>nenhum</td>\n",
       "      <td>própria</td>\n",
       "      <td>2</td>\n",
       "      <td>especializado</td>\n",
       "      <td>1</td>\n",
       "      <td>sim</td>\n",
       "      <td>bom</td>\n",
       "    </tr>\n",
       "    <tr>\n",
       "      <th>2</th>\n",
       "      <td>sem cheque</td>\n",
       "      <td>12</td>\n",
       "      <td>crítica / outros de crédito existente</td>\n",
       "      <td>educação</td>\n",
       "      <td>2096</td>\n",
       "      <td>&lt;100</td>\n",
       "      <td>4&lt;=X&lt;7</td>\n",
       "      <td>2</td>\n",
       "      <td>masculino solteiro</td>\n",
       "      <td>nenhum</td>\n",
       "      <td>3</td>\n",
       "      <td>bens imóveis</td>\n",
       "      <td>49</td>\n",
       "      <td>nenhum</td>\n",
       "      <td>própria</td>\n",
       "      <td>1</td>\n",
       "      <td>não especializado</td>\n",
       "      <td>2</td>\n",
       "      <td>sim</td>\n",
       "      <td>bom</td>\n",
       "    </tr>\n",
       "    <tr>\n",
       "      <th>3</th>\n",
       "      <td>&lt;0</td>\n",
       "      <td>42</td>\n",
       "      <td>existente e pago</td>\n",
       "      <td>mobilia/equipamento</td>\n",
       "      <td>7882</td>\n",
       "      <td>&lt;100</td>\n",
       "      <td>4&lt;=X&lt;7</td>\n",
       "      <td>2</td>\n",
       "      <td>masculino solteiro</td>\n",
       "      <td>fiador</td>\n",
       "      <td>4</td>\n",
       "      <td>seguro de vida</td>\n",
       "      <td>45</td>\n",
       "      <td>nenhum</td>\n",
       "      <td>gratuitamente</td>\n",
       "      <td>1</td>\n",
       "      <td>especializado</td>\n",
       "      <td>2</td>\n",
       "      <td>sim</td>\n",
       "      <td>bom</td>\n",
       "    </tr>\n",
       "    <tr>\n",
       "      <th>5</th>\n",
       "      <td>sem cheque</td>\n",
       "      <td>36</td>\n",
       "      <td>existente e pago</td>\n",
       "      <td>educação</td>\n",
       "      <td>9055</td>\n",
       "      <td>nenhuma economia conhecida</td>\n",
       "      <td>1&lt;=X&lt;4</td>\n",
       "      <td>2</td>\n",
       "      <td>masculino solteiro</td>\n",
       "      <td>nenhum</td>\n",
       "      <td>4</td>\n",
       "      <td>nenhuma conhecida</td>\n",
       "      <td>35</td>\n",
       "      <td>nenhum</td>\n",
       "      <td>gratuitamente</td>\n",
       "      <td>1</td>\n",
       "      <td>não especializado</td>\n",
       "      <td>2</td>\n",
       "      <td>sim</td>\n",
       "      <td>bom</td>\n",
       "    </tr>\n",
       "    <tr>\n",
       "      <th>6</th>\n",
       "      <td>sem cheque</td>\n",
       "      <td>24</td>\n",
       "      <td>existente e pago</td>\n",
       "      <td>mobilia/equipamento</td>\n",
       "      <td>2835</td>\n",
       "      <td>500&lt;=X&lt;1000</td>\n",
       "      <td>&gt;=7</td>\n",
       "      <td>3</td>\n",
       "      <td>masculino solteiro</td>\n",
       "      <td>nenhum</td>\n",
       "      <td>4</td>\n",
       "      <td>seguro de vida</td>\n",
       "      <td>53</td>\n",
       "      <td>nenhum</td>\n",
       "      <td>própria</td>\n",
       "      <td>1</td>\n",
       "      <td>especializado</td>\n",
       "      <td>1</td>\n",
       "      <td>sim</td>\n",
       "      <td>bom</td>\n",
       "    </tr>\n",
       "  </tbody>\n",
       "</table>\n",
       "</div>"
      ],
      "text/plain": [
       "  CHEQUEESPECIAL  USO_CREDITO                      HISTORICO_CREDITO  \\\n",
       "0             <0            6  crítica / outros de crédito existente   \n",
       "2     sem cheque           12  crítica / outros de crédito existente   \n",
       "3             <0           42                       existente e pago   \n",
       "5     sem cheque           36                       existente e pago   \n",
       "6     sem cheque           24                       existente e pago   \n",
       "\n",
       "             PROPOSITO  BALANCO_ATUAL       BALANCO_MEDIO_CREDITO EMPREGADO  \\\n",
       "0        Computador/TV           1169  nenhuma economia conhecida       >=7   \n",
       "2             educação           2096                        <100    4<=X<7   \n",
       "3  mobilia/equipamento           7882                        <100    4<=X<7   \n",
       "5             educação           9055  nenhuma economia conhecida    1<=X<4   \n",
       "6  mobilia/equipamento           2835                 500<=X<1000       >=7   \n",
       "\n",
       "   LOCAL         ESTADOCIVIL OUTRASFUNCOES  RESIDENCIADESDE  \\\n",
       "0      4  masculino solteiro        nenhum                4   \n",
       "2      2  masculino solteiro        nenhum                3   \n",
       "3      2  masculino solteiro        fiador                4   \n",
       "5      2  masculino solteiro        nenhum                4   \n",
       "6      3  masculino solteiro        nenhum                4   \n",
       "\n",
       "           TIPOSBENS  IDADE OUTROSPLANOSPGTO     RESIDENCIA  \\\n",
       "0       bens imóveis     67           nenhum        própria   \n",
       "2       bens imóveis     49           nenhum        própria   \n",
       "3     seguro de vida     45           nenhum  gratuitamente   \n",
       "5  nenhuma conhecida     35           nenhum  gratuitamente   \n",
       "6     seguro de vida     53           nenhum        própria   \n",
       "\n",
       "   CREDITOSEXISTENTES            EMPREGO  DEPENDENTES TRABAESTRANGEIRO CLASSE  \n",
       "0                   2      especializado            1              sim    bom  \n",
       "2                   1  não especializado            2              sim    bom  \n",
       "3                   1      especializado            2              sim    bom  \n",
       "5                   1  não especializado            2              sim    bom  \n",
       "6                   1      especializado            1              sim    bom  "
      ]
     },
     "execution_count": 18,
     "metadata": {},
     "output_type": "execute_result"
    }
   ],
   "source": [
    "bons = df.loc[df.CLASSE == 'bom']\n",
    "bons.head()"
   ]
  },
  {
   "cell_type": "code",
   "execution_count": 14,
   "metadata": {},
   "outputs": [
    {
     "data": {
      "text/plain": [
       "PROPOSITO\n",
       "Computador/TV          218\n",
       "Eletrodomésticos         8\n",
       "carro novo             145\n",
       "carro usado             86\n",
       "educação                28\n",
       "mobilia/equipamento    123\n",
       "negócios                63\n",
       "obras                   14\n",
       "outros                   7\n",
       "qualificação             8\n",
       "Name: CLASSE, dtype: int64"
      ]
     },
     "execution_count": 14,
     "metadata": {},
     "output_type": "execute_result"
    }
   ],
   "source": [
    "agrupado5= bons.groupby(['PROPOSITO'])['CLASSE'].count()\n",
    "agrupado5"
   ]
  },
  {
   "cell_type": "code",
   "execution_count": 19,
   "metadata": {},
   "outputs": [
    {
     "data": {
      "text/html": [
       "<div>\n",
       "<style scoped>\n",
       "    .dataframe tbody tr th:only-of-type {\n",
       "        vertical-align: middle;\n",
       "    }\n",
       "\n",
       "    .dataframe tbody tr th {\n",
       "        vertical-align: top;\n",
       "    }\n",
       "\n",
       "    .dataframe thead th {\n",
       "        text-align: right;\n",
       "    }\n",
       "</style>\n",
       "<table border=\"1\" class=\"dataframe\">\n",
       "  <thead>\n",
       "    <tr style=\"text-align: right;\">\n",
       "      <th></th>\n",
       "      <th>CHEQUEESPECIAL</th>\n",
       "      <th>USO_CREDITO</th>\n",
       "      <th>HISTORICO_CREDITO</th>\n",
       "      <th>PROPOSITO</th>\n",
       "      <th>BALANCO_ATUAL</th>\n",
       "      <th>BALANCO_MEDIO_CREDITO</th>\n",
       "      <th>EMPREGADO</th>\n",
       "      <th>LOCAL</th>\n",
       "      <th>ESTADOCIVIL</th>\n",
       "      <th>OUTRASFUNCOES</th>\n",
       "      <th>RESIDENCIADESDE</th>\n",
       "      <th>TIPOSBENS</th>\n",
       "      <th>IDADE</th>\n",
       "      <th>OUTROSPLANOSPGTO</th>\n",
       "      <th>RESIDENCIA</th>\n",
       "      <th>CREDITOSEXISTENTES</th>\n",
       "      <th>EMPREGO</th>\n",
       "      <th>DEPENDENTES</th>\n",
       "      <th>TRABAESTRANGEIRO</th>\n",
       "      <th>CLASSE</th>\n",
       "    </tr>\n",
       "  </thead>\n",
       "  <tbody>\n",
       "    <tr>\n",
       "      <th>1</th>\n",
       "      <td>0&lt;=X&lt;200</td>\n",
       "      <td>48</td>\n",
       "      <td>existente e pago</td>\n",
       "      <td>Computador/TV</td>\n",
       "      <td>5951</td>\n",
       "      <td>&lt;100</td>\n",
       "      <td>1&lt;=X&lt;4</td>\n",
       "      <td>2</td>\n",
       "      <td>fem div/cas</td>\n",
       "      <td>nenhum</td>\n",
       "      <td>2</td>\n",
       "      <td>bens imóveis</td>\n",
       "      <td>22</td>\n",
       "      <td>nenhum</td>\n",
       "      <td>própria</td>\n",
       "      <td>1</td>\n",
       "      <td>especializado</td>\n",
       "      <td>1</td>\n",
       "      <td>sim</td>\n",
       "      <td>ruim</td>\n",
       "    </tr>\n",
       "    <tr>\n",
       "      <th>4</th>\n",
       "      <td>&lt;0</td>\n",
       "      <td>24</td>\n",
       "      <td>atrasos anteriores</td>\n",
       "      <td>carro novo</td>\n",
       "      <td>4870</td>\n",
       "      <td>&lt;100</td>\n",
       "      <td>1&lt;=X&lt;4</td>\n",
       "      <td>3</td>\n",
       "      <td>masculino solteiro</td>\n",
       "      <td>nenhum</td>\n",
       "      <td>4</td>\n",
       "      <td>nenhuma conhecida</td>\n",
       "      <td>53</td>\n",
       "      <td>nenhum</td>\n",
       "      <td>gratuitamente</td>\n",
       "      <td>2</td>\n",
       "      <td>especializado</td>\n",
       "      <td>2</td>\n",
       "      <td>sim</td>\n",
       "      <td>ruim</td>\n",
       "    </tr>\n",
       "    <tr>\n",
       "      <th>9</th>\n",
       "      <td>0&lt;=X&lt;200</td>\n",
       "      <td>30</td>\n",
       "      <td>crítica / outros de crédito existente</td>\n",
       "      <td>carro novo</td>\n",
       "      <td>5234</td>\n",
       "      <td>&lt;100</td>\n",
       "      <td>desempregado</td>\n",
       "      <td>4</td>\n",
       "      <td>masculino casado/viuvo</td>\n",
       "      <td>nenhum</td>\n",
       "      <td>2</td>\n",
       "      <td>carro</td>\n",
       "      <td>28</td>\n",
       "      <td>nenhum</td>\n",
       "      <td>própria</td>\n",
       "      <td>2</td>\n",
       "      <td>alta qualificação/autonomo/Gerente</td>\n",
       "      <td>1</td>\n",
       "      <td>sim</td>\n",
       "      <td>ruim</td>\n",
       "    </tr>\n",
       "    <tr>\n",
       "      <th>10</th>\n",
       "      <td>0&lt;=X&lt;200</td>\n",
       "      <td>12</td>\n",
       "      <td>existente e pago</td>\n",
       "      <td>carro novo</td>\n",
       "      <td>1295</td>\n",
       "      <td>&lt;100</td>\n",
       "      <td>&lt;1</td>\n",
       "      <td>3</td>\n",
       "      <td>fem div/cas</td>\n",
       "      <td>nenhum</td>\n",
       "      <td>1</td>\n",
       "      <td>carro</td>\n",
       "      <td>25</td>\n",
       "      <td>nenhum</td>\n",
       "      <td>alugada</td>\n",
       "      <td>1</td>\n",
       "      <td>especializado</td>\n",
       "      <td>1</td>\n",
       "      <td>sim</td>\n",
       "      <td>ruim</td>\n",
       "    </tr>\n",
       "    <tr>\n",
       "      <th>11</th>\n",
       "      <td>&lt;0</td>\n",
       "      <td>48</td>\n",
       "      <td>existente e pago</td>\n",
       "      <td>negócios</td>\n",
       "      <td>4308</td>\n",
       "      <td>&lt;100</td>\n",
       "      <td>&lt;1</td>\n",
       "      <td>3</td>\n",
       "      <td>fem div/cas</td>\n",
       "      <td>nenhum</td>\n",
       "      <td>4</td>\n",
       "      <td>seguro de vida</td>\n",
       "      <td>24</td>\n",
       "      <td>nenhum</td>\n",
       "      <td>alugada</td>\n",
       "      <td>1</td>\n",
       "      <td>especializado</td>\n",
       "      <td>1</td>\n",
       "      <td>sim</td>\n",
       "      <td>ruim</td>\n",
       "    </tr>\n",
       "  </tbody>\n",
       "</table>\n",
       "</div>"
      ],
      "text/plain": [
       "   CHEQUEESPECIAL  USO_CREDITO                      HISTORICO_CREDITO  \\\n",
       "1        0<=X<200           48                       existente e pago   \n",
       "4              <0           24                     atrasos anteriores   \n",
       "9        0<=X<200           30  crítica / outros de crédito existente   \n",
       "10       0<=X<200           12                       existente e pago   \n",
       "11             <0           48                       existente e pago   \n",
       "\n",
       "        PROPOSITO  BALANCO_ATUAL BALANCO_MEDIO_CREDITO     EMPREGADO  LOCAL  \\\n",
       "1   Computador/TV           5951                  <100        1<=X<4      2   \n",
       "4      carro novo           4870                  <100        1<=X<4      3   \n",
       "9      carro novo           5234                  <100  desempregado      4   \n",
       "10     carro novo           1295                  <100            <1      3   \n",
       "11       negócios           4308                  <100            <1      3   \n",
       "\n",
       "               ESTADOCIVIL OUTRASFUNCOES  RESIDENCIADESDE          TIPOSBENS  \\\n",
       "1              fem div/cas        nenhum                2       bens imóveis   \n",
       "4       masculino solteiro        nenhum                4  nenhuma conhecida   \n",
       "9   masculino casado/viuvo        nenhum                2              carro   \n",
       "10             fem div/cas        nenhum                1              carro   \n",
       "11             fem div/cas        nenhum                4     seguro de vida   \n",
       "\n",
       "    IDADE OUTROSPLANOSPGTO     RESIDENCIA  CREDITOSEXISTENTES  \\\n",
       "1      22           nenhum        própria                   1   \n",
       "4      53           nenhum  gratuitamente                   2   \n",
       "9      28           nenhum        própria                   2   \n",
       "10     25           nenhum        alugada                   1   \n",
       "11     24           nenhum        alugada                   1   \n",
       "\n",
       "                               EMPREGO  DEPENDENTES TRABAESTRANGEIRO CLASSE  \n",
       "1                        especializado            1              sim   ruim  \n",
       "4                        especializado            2              sim   ruim  \n",
       "9   alta qualificação/autonomo/Gerente            1              sim   ruim  \n",
       "10                       especializado            1              sim   ruim  \n",
       "11                       especializado            1              sim   ruim  "
      ]
     },
     "execution_count": 19,
     "metadata": {},
     "output_type": "execute_result"
    }
   ],
   "source": [
    "ruim = df.loc[df.CLASSE == 'ruim']\n",
    "ruim.head()"
   ]
  },
  {
   "cell_type": "code",
   "execution_count": 17,
   "metadata": {},
   "outputs": [
    {
     "data": {
      "text/plain": [
       "PROPOSITO\n",
       "Computador/TV          62\n",
       "Eletrodomésticos        4\n",
       "carro novo             89\n",
       "carro usado            17\n",
       "educação               22\n",
       "mobilia/equipamento    58\n",
       "negócios               34\n",
       "obras                   8\n",
       "outros                  5\n",
       "qualificação            1\n",
       "Name: CLASSE, dtype: int64"
      ]
     },
     "execution_count": 17,
     "metadata": {},
     "output_type": "execute_result"
    }
   ],
   "source": [
    "agrupado6= ruim.groupby(['PROPOSITO'])['CLASSE'].count()\n",
    "agrupado6"
   ]
  },
  {
   "cell_type": "markdown",
   "metadata": {},
   "source": [
    "# Visualização grafica"
   ]
  },
  {
   "cell_type": "code",
   "execution_count": 21,
   "metadata": {},
   "outputs": [
    {
     "name": "stderr",
     "output_type": "stream",
     "text": [
      "C:\\ProgramData\\Anaconda3\\lib\\site-packages\\scipy\\stats\\stats.py:1713: FutureWarning: Using a non-tuple sequence for multidimensional indexing is deprecated; use `arr[tuple(seq)]` instead of `arr[seq]`. In the future this will be interpreted as an array index, `arr[np.array(seq)]`, which will result either in an error or a different result.\n",
      "  return np.add.reduce(sorted[indexer] * weights, axis=axis) / sumval\n"
     ]
    },
    {
     "data": {
      "text/plain": [
       "Text(0.5, 1.0, 'Histograma Idade')"
      ]
     },
     "execution_count": 21,
     "metadata": {},
     "output_type": "execute_result"
    },
    {
     "data": {
      "image/png": "[encoded data removed]",
      "text/plain": [
       "<Figure size 432x288 with 1 Axes>"
      ]
     },
     "metadata": {
      "needs_background": "light"
     },
     "output_type": "display_data"
    }
   ],
   "source": [
    "sns.distplot(df.IDADE, bins=10, axlabel=\"Idade\").set_title(\"Histograma Idade\")"
   ]
  },
  {
   "cell_type": "code",
   "execution_count": 23,
   "metadata": {},
   "outputs": [
    {
     "name": "stderr",
     "output_type": "stream",
     "text": [
      "C:\\ProgramData\\Anaconda3\\lib\\site-packages\\scipy\\stats\\stats.py:1713: FutureWarning: Using a non-tuple sequence for multidimensional indexing is deprecated; use `arr[tuple(seq)]` instead of `arr[seq]`. In the future this will be interpreted as an array index, `arr[np.array(seq)]`, which will result either in an error or a different result.\n",
      "  return np.add.reduce(sorted[indexer] * weights, axis=axis) / sumval\n"
     ]
    },
    {
     "data": {
      "image/png": "[encoded data removed]",
      "text/plain": [
       "<Figure size 432x288 with 2 Axes>"
      ]
     },
     "metadata": {
      "needs_background": "light"
     },
     "output_type": "display_data"
    }
   ],
   "source": [
    "plt.figure()\n",
    "plt.subplot(2,1,1)\n",
    "sns.distplot(df.loc[df.CLASSE == 'bom'].IDADE).set_title(\"Bom\")\n",
    "plt.subplot(2,1,2)\n",
    "sns.distplot(df.loc[df.CLASSE == 'ruim'].IDADE).set_title(\"Ruim\")\n",
    "plt.tight_layout()\n"
   ]
  },
  {
   "cell_type": "code",
   "execution_count": 31,
   "metadata": {},
   "outputs": [
    {
     "name": "stderr",
     "output_type": "stream",
     "text": [
      "C:\\ProgramData\\Anaconda3\\lib\\site-packages\\scipy\\stats\\stats.py:1713: FutureWarning: Using a non-tuple sequence for multidimensional indexing is deprecated; use `arr[tuple(seq)]` instead of `arr[seq]`. In the future this will be interpreted as an array index, `arr[np.array(seq)]`, which will result either in an error or a different result.\n",
      "  return np.add.reduce(sorted[indexer] * weights, axis=axis) / sumval\n"
     ]
    },
    {
     "data": {
      "text/plain": [
       "<matplotlib.axes._subplots.AxesSubplot at 0xe927438>"
      ]
     },
     "execution_count": 31,
     "metadata": {},
     "output_type": "execute_result"
    },
    {
     "data": {
      "image/png": "[encoded data removed]",
      "text/plain": [
       "<Figure size 432x288 with 1 Axes>"
      ]
     },
     "metadata": {
      "needs_background": "light"
     },
     "output_type": "display_data"
    }
   ],
   "source": [
    "sns.regplot(df.USO_CREDITO, df.CREDITOSEXISTENTES, data=df)"
   ]
  },
  {
   "cell_type": "code",
   "execution_count": 33,
   "metadata": {},
   "outputs": [
    {
     "data": {
      "text/plain": [
       "<matplotlib.axes._subplots.AxesSubplot at 0xd43e198>"
      ]
     },
     "execution_count": 33,
     "metadata": {},
     "output_type": "execute_result"
    },
    {
     "data": {
      "image/png": "[encoded data removed]",
      "text/plain": [
       "<Figure size 432x288 with 1 Axes>"
      ]
     },
     "metadata": {
      "needs_background": "light"
     },
     "output_type": "display_data"
    }
   ],
   "source": [
    "sns.scatterplot(df.IDADE, df.EMPREGO, hue= df.CLASSE)"
   ]
  },
  {
   "cell_type": "code",
   "execution_count": 34,
   "metadata": {},
   "outputs": [
    {
     "data": {
      "text/plain": [
       "Text(0.5, 1.0, 'Idade')"
      ]
     },
     "execution_count": 34,
     "metadata": {},
     "output_type": "execute_result"
    },
    {
     "data": {
      "image/png": "[encoded data removed]",
      "text/plain": [
       "<Figure size 432x288 with 1 Axes>"
      ]
     },
     "metadata": {
      "needs_background": "light"
     },
     "output_type": "display_data"
    }
   ],
   "source": [
    "sns.boxplot(df.IDADE).set_title(\"Idade\")"
   ]
  },
  {
   "cell_type": "markdown",
   "metadata": {},
   "source": [
    "# Machine Learning "
   ]
  },
  {
   "cell_type": "code",
   "execution_count": 42,
   "metadata": {},
   "outputs": [],
   "source": [
    "previsores = df.iloc[:,0:19].values"
   ]
  },
  {
   "cell_type": "code",
   "execution_count": 43,
   "metadata": {},
   "outputs": [
    {
     "data": {
      "text/plain": [
       "array(['<0', 6, 'crítica / outros de crédito existente', 'Computador/TV',\n",
       "       1169, 'nenhuma economia conhecida', '>=7', 4, 'masculino solteiro',\n",
       "       'nenhum', 4, 'bens imóveis', 67, 'nenhum', 'própria', 2,\n",
       "       'especializado', 1, 'sim'], dtype=object)"
      ]
     },
     "execution_count": 43,
     "metadata": {},
     "output_type": "execute_result"
    }
   ],
   "source": [
    "previsores[0]"
   ]
  },
  {
   "cell_type": "code",
   "execution_count": 45,
   "metadata": {},
   "outputs": [],
   "source": [
    "classe = df.iloc[:,19].values"
   ]
  },
  {
   "cell_type": "code",
   "execution_count": 46,
   "metadata": {},
   "outputs": [
    {
     "data": {
      "text/plain": [
       "array(['bom', 'ruim', 'bom', 'bom', 'ruim', 'bom', 'bom', 'bom', 'bom',\n",
       "       'ruim'], dtype=object)"
      ]
     },
     "execution_count": 46,
     "metadata": {},
     "output_type": "execute_result"
    }
   ],
   "source": [
    "classe[:10]"
   ]
  },
  {
   "cell_type": "code",
   "execution_count": 47,
   "metadata": {},
   "outputs": [],
   "source": [
    "# Converter valores categorico em numericos para trabalhar com GaussianNBabs\n",
    "\n",
    "labelEncoder = LabelEncoder()\n",
    "previsores[:,0] = labelEncoder.fit_transform(previsores[:,0])\n",
    "previsores[:,2] = labelEncoder.fit_transform(previsores[:,2])\n",
    "previsores[:,3] = labelEncoder.fit_transform(previsores[:,3])\n",
    "previsores[:,5] = labelEncoder.fit_transform(previsores[:,5])\n",
    "previsores[:,6] = labelEncoder.fit_transform(previsores[:,6])\n",
    "previsores[:,8] = labelEncoder.fit_transform(previsores[:,8])\n",
    "previsores[:,9] = labelEncoder.fit_transform(previsores[:,9])\n",
    "previsores[:,11] = labelEncoder.fit_transform(previsores[:,11])\n",
    "previsores[:,13] = labelEncoder.fit_transform(previsores[:,13])\n",
    "previsores[:,14] = labelEncoder.fit_transform(previsores[:,14])\n",
    "previsores[:,16] = labelEncoder.fit_transform(previsores[:,16])\n",
    "previsores[:,18] = labelEncoder.fit_transform(previsores[:,18])\n"
   ]
  },
  {
   "cell_type": "code",
   "execution_count": 48,
   "metadata": {},
   "outputs": [
    {
     "data": {
      "text/plain": [
       "array([[1, 6, 1, 0, 1169, 4, 3, 4, 3, 2, 4, 0, 67, 1, 2, 2, 1, 1, 1],\n",
       "       [0, 48, 2, 0, 5951, 2, 0, 2, 0, 2, 2, 0, 22, 1, 2, 1, 1, 1, 1],\n",
       "       [3, 12, 1, 4, 2096, 2, 1, 2, 3, 2, 3, 0, 49, 1, 2, 1, 2, 2, 1],\n",
       "       [1, 42, 2, 5, 7882, 2, 1, 2, 3, 1, 4, 3, 45, 1, 1, 1, 1, 2, 1],\n",
       "       [1, 24, 0, 2, 4870, 2, 0, 3, 3, 2, 4, 2, 53, 1, 1, 2, 1, 2, 1]],\n",
       "      dtype=object)"
      ]
     },
     "execution_count": 48,
     "metadata": {},
     "output_type": "execute_result"
    }
   ],
   "source": [
    "previsores[0:5]"
   ]
  },
  {
   "cell_type": "code",
   "execution_count": 49,
   "metadata": {},
   "outputs": [],
   "source": [
    "x_treinamento, x_teste, y_treinamento, y_teste = train_test_split(previsores, classe, test_size = 0.3, random_state = 0)"
   ]
  },
  {
   "cell_type": "code",
   "execution_count": 50,
   "metadata": {},
   "outputs": [
    {
     "name": "stdout",
     "output_type": "stream",
     "text": [
      "[0 24 1 8 11938 2 0 2 3 0 3 1 39 1 2 2 0 2 1]\n",
      "ruim\n"
     ]
    }
   ],
   "source": [
    "print(x_treinamento[0])\n",
    "print(y_treinamento[0])"
   ]
  },
  {
   "cell_type": "code",
   "execution_count": 51,
   "metadata": {},
   "outputs": [
    {
     "data": {
      "text/plain": [
       "GaussianNB(priors=None, var_smoothing=1e-09)"
      ]
     },
     "execution_count": 51,
     "metadata": {},
     "output_type": "execute_result"
    }
   ],
   "source": [
    "naive_bayes = GaussianNB()\n",
    "naive_bayes.fit(x_treinamento, y_treinamento)"
   ]
  },
  {
   "cell_type": "code",
   "execution_count": 52,
   "metadata": {},
   "outputs": [],
   "source": [
    "previsoes = naive_bayes.predict(x_teste)"
   ]
  },
  {
   "cell_type": "code",
   "execution_count": 53,
   "metadata": {},
   "outputs": [
    {
     "data": {
      "text/plain": [
       "array([[167,  47],\n",
       "       [ 42,  44]], dtype=int64)"
      ]
     },
     "execution_count": 53,
     "metadata": {},
     "output_type": "execute_result"
    }
   ],
   "source": [
    "confusao = confusion_matrix(y_teste, previsoes)\n",
    "confusao"
   ]
  },
  {
   "cell_type": "code",
   "execution_count": 54,
   "metadata": {},
   "outputs": [
    {
     "data": {
      "text/plain": [
       "0.7033333333333334"
      ]
     },
     "execution_count": 54,
     "metadata": {},
     "output_type": "execute_result"
    }
   ],
   "source": [
    "taxa_acerto = accuracy_score(y_teste,previsoes)\n",
    "taxa_acerto"
   ]
  },
  {
   "cell_type": "code",
   "execution_count": 55,
   "metadata": {},
   "outputs": [
    {
     "data": {
      "text/plain": [
       "0.29666666666666663"
      ]
     },
     "execution_count": 55,
     "metadata": {},
     "output_type": "execute_result"
    }
   ],
   "source": [
    "taxa_erro = 1- taxa_acerto\n",
    "taxa_erro"
   ]
  },
  {
   "cell_type": "code",
   "execution_count": 56,
   "metadata": {},
   "outputs": [
    {
     "data": {
      "image/png": "[encoded data removed]",
      "text/plain": [
       "<Figure size 432x288 with 1 Axes>"
      ]
     },
     "metadata": {
      "needs_background": "light"
     },
     "output_type": "display_data"
    }
   ],
   "source": [
    "#Visualizador \n",
    "\n",
    "v = ConfusionMatrix(GaussianNB())\n",
    "v.fit(x_treinamento, y_treinamento)\n",
    "v.score(x_teste, y_teste)\n",
    "v.poof()"
   ]
  },
  {
   "cell_type": "markdown",
   "metadata": {},
   "source": [
    "# Testar Modelo"
   ]
  },
  {
   "cell_type": "code",
   "execution_count": 58,
   "metadata": {},
   "outputs": [],
   "source": [
    "df_teste = pd.read_csv('Credito2.csv' , engine = 'python',sep=';')"
   ]
  },
  {
   "cell_type": "code",
   "execution_count": 59,
   "metadata": {},
   "outputs": [
    {
     "data": {
      "text/html": [
       "<div>\n",
       "<style scoped>\n",
       "    .dataframe tbody tr th:only-of-type {\n",
       "        vertical-align: middle;\n",
       "    }\n",
       "\n",
       "    .dataframe tbody tr th {\n",
       "        vertical-align: top;\n",
       "    }\n",
       "\n",
       "    .dataframe thead th {\n",
       "        text-align: right;\n",
       "    }\n",
       "</style>\n",
       "<table border=\"1\" class=\"dataframe\">\n",
       "  <thead>\n",
       "    <tr style=\"text-align: right;\">\n",
       "      <th></th>\n",
       "      <th>CHEQUEESPECIAL</th>\n",
       "      <th>USO_CREDITO</th>\n",
       "      <th>HISTORICO_CREDITO</th>\n",
       "      <th>PROPOSITO</th>\n",
       "      <th>BALANCO_ATUAL</th>\n",
       "      <th>BALANCO_MEDIO_CREDITO</th>\n",
       "      <th>EMPREGADO</th>\n",
       "      <th>LOCAL</th>\n",
       "      <th>ESTADOCIVIL</th>\n",
       "      <th>OUTRASFUNCOES</th>\n",
       "      <th>RESIDENCIADESDE</th>\n",
       "      <th>TIPOSBENS</th>\n",
       "      <th>IDADE</th>\n",
       "      <th>OUTROSPLANOSPGTO</th>\n",
       "      <th>RESIDENCIA</th>\n",
       "      <th>CREDITOSEXISTENTES</th>\n",
       "      <th>EMPREGO</th>\n",
       "      <th>DEPENDENTES</th>\n",
       "      <th>TRABAESTRANGEIRO</th>\n",
       "      <th>CLASSE</th>\n",
       "    </tr>\n",
       "  </thead>\n",
       "  <tbody>\n",
       "    <tr>\n",
       "      <th>0</th>\n",
       "      <td>&lt;0</td>\n",
       "      <td>6</td>\n",
       "      <td>crítica / outros de crédito existente</td>\n",
       "      <td>Computador/TV</td>\n",
       "      <td>1169</td>\n",
       "      <td>nenhuma economia conhecida</td>\n",
       "      <td>&gt;=7</td>\n",
       "      <td>4</td>\n",
       "      <td>masculino solteiro</td>\n",
       "      <td>nenhum</td>\n",
       "      <td>4</td>\n",
       "      <td>bens imóveis</td>\n",
       "      <td>67</td>\n",
       "      <td>nenhum</td>\n",
       "      <td>própria</td>\n",
       "      <td>2</td>\n",
       "      <td>especializado</td>\n",
       "      <td>1</td>\n",
       "      <td>sim</td>\n",
       "      <td>bom</td>\n",
       "    </tr>\n",
       "    <tr>\n",
       "      <th>1</th>\n",
       "      <td>0&lt;=X&lt;200</td>\n",
       "      <td>48</td>\n",
       "      <td>existente e pago</td>\n",
       "      <td>Computador/TV</td>\n",
       "      <td>5951</td>\n",
       "      <td>&lt;100</td>\n",
       "      <td>1&lt;=X&lt;4</td>\n",
       "      <td>2</td>\n",
       "      <td>fem div/cas</td>\n",
       "      <td>nenhum</td>\n",
       "      <td>2</td>\n",
       "      <td>bens imóveis</td>\n",
       "      <td>22</td>\n",
       "      <td>nenhum</td>\n",
       "      <td>própria</td>\n",
       "      <td>1</td>\n",
       "      <td>especializado</td>\n",
       "      <td>1</td>\n",
       "      <td>sim</td>\n",
       "      <td>ruim</td>\n",
       "    </tr>\n",
       "    <tr>\n",
       "      <th>2</th>\n",
       "      <td>sem cheque</td>\n",
       "      <td>12</td>\n",
       "      <td>crítica / outros de crédito existente</td>\n",
       "      <td>educação</td>\n",
       "      <td>2096</td>\n",
       "      <td>&lt;100</td>\n",
       "      <td>4&lt;=X&lt;7</td>\n",
       "      <td>2</td>\n",
       "      <td>masculino solteiro</td>\n",
       "      <td>nenhum</td>\n",
       "      <td>3</td>\n",
       "      <td>bens imóveis</td>\n",
       "      <td>49</td>\n",
       "      <td>nenhum</td>\n",
       "      <td>própria</td>\n",
       "      <td>1</td>\n",
       "      <td>não especializado</td>\n",
       "      <td>2</td>\n",
       "      <td>sim</td>\n",
       "      <td>bom</td>\n",
       "    </tr>\n",
       "    <tr>\n",
       "      <th>3</th>\n",
       "      <td>&lt;0</td>\n",
       "      <td>42</td>\n",
       "      <td>existente e pago</td>\n",
       "      <td>mobilia/equipamento</td>\n",
       "      <td>7882</td>\n",
       "      <td>&lt;100</td>\n",
       "      <td>4&lt;=X&lt;7</td>\n",
       "      <td>2</td>\n",
       "      <td>masculino solteiro</td>\n",
       "      <td>fiador</td>\n",
       "      <td>4</td>\n",
       "      <td>seguro de vida</td>\n",
       "      <td>45</td>\n",
       "      <td>nenhum</td>\n",
       "      <td>gratuitamente</td>\n",
       "      <td>1</td>\n",
       "      <td>especializado</td>\n",
       "      <td>2</td>\n",
       "      <td>sim</td>\n",
       "      <td>bom</td>\n",
       "    </tr>\n",
       "    <tr>\n",
       "      <th>4</th>\n",
       "      <td>&lt;0</td>\n",
       "      <td>24</td>\n",
       "      <td>atrasos anteriores</td>\n",
       "      <td>carro novo</td>\n",
       "      <td>4870</td>\n",
       "      <td>&lt;100</td>\n",
       "      <td>1&lt;=X&lt;4</td>\n",
       "      <td>3</td>\n",
       "      <td>masculino solteiro</td>\n",
       "      <td>nenhum</td>\n",
       "      <td>4</td>\n",
       "      <td>nenhuma conhecida</td>\n",
       "      <td>53</td>\n",
       "      <td>nenhum</td>\n",
       "      <td>gratuitamente</td>\n",
       "      <td>2</td>\n",
       "      <td>especializado</td>\n",
       "      <td>2</td>\n",
       "      <td>sim</td>\n",
       "      <td>ruim</td>\n",
       "    </tr>\n",
       "  </tbody>\n",
       "</table>\n",
       "</div>"
      ],
      "text/plain": [
       "  CHEQUEESPECIAL  USO_CREDITO                      HISTORICO_CREDITO  \\\n",
       "0             <0            6  crítica / outros de crédito existente   \n",
       "1       0<=X<200           48                       existente e pago   \n",
       "2     sem cheque           12  crítica / outros de crédito existente   \n",
       "3             <0           42                       existente e pago   \n",
       "4             <0           24                     atrasos anteriores   \n",
       "\n",
       "             PROPOSITO  BALANCO_ATUAL       BALANCO_MEDIO_CREDITO EMPREGADO  \\\n",
       "0        Computador/TV           1169  nenhuma economia conhecida       >=7   \n",
       "1        Computador/TV           5951                        <100    1<=X<4   \n",
       "2             educação           2096                        <100    4<=X<7   \n",
       "3  mobilia/equipamento           7882                        <100    4<=X<7   \n",
       "4           carro novo           4870                        <100    1<=X<4   \n",
       "\n",
       "   LOCAL         ESTADOCIVIL OUTRASFUNCOES  RESIDENCIADESDE  \\\n",
       "0      4  masculino solteiro        nenhum                4   \n",
       "1      2         fem div/cas        nenhum                2   \n",
       "2      2  masculino solteiro        nenhum                3   \n",
       "3      2  masculino solteiro        fiador                4   \n",
       "4      3  masculino solteiro        nenhum                4   \n",
       "\n",
       "           TIPOSBENS  IDADE OUTROSPLANOSPGTO     RESIDENCIA  \\\n",
       "0       bens imóveis     67           nenhum        própria   \n",
       "1       bens imóveis     22           nenhum        própria   \n",
       "2       bens imóveis     49           nenhum        própria   \n",
       "3     seguro de vida     45           nenhum  gratuitamente   \n",
       "4  nenhuma conhecida     53           nenhum  gratuitamente   \n",
       "\n",
       "   CREDITOSEXISTENTES            EMPREGO  DEPENDENTES TRABAESTRANGEIRO CLASSE  \n",
       "0                   2      especializado            1              sim    bom  \n",
       "1                   1      especializado            1              sim   ruim  \n",
       "2                   1  não especializado            2              sim    bom  \n",
       "3                   1      especializado            2              sim    bom  \n",
       "4                   2      especializado            2              sim   ruim  "
      ]
     },
     "execution_count": 59,
     "metadata": {},
     "output_type": "execute_result"
    }
   ],
   "source": [
    "df_teste.head()"
   ]
  },
  {
   "cell_type": "code",
   "execution_count": 60,
   "metadata": {},
   "outputs": [],
   "source": [
    "previsores_teste = df_teste.iloc[:,0:19].values"
   ]
  },
  {
   "cell_type": "code",
   "execution_count": 61,
   "metadata": {},
   "outputs": [],
   "source": [
    "labelEncoder = LabelEncoder()\n",
    "previsores_teste[:,0] = labelEncoder.fit_transform(previsores_teste[:,0])\n",
    "previsores_teste[:,2] = labelEncoder.fit_transform(previsores_teste[:,2])\n",
    "previsores_teste[:,3] = labelEncoder.fit_transform(previsores_teste[:,3])\n",
    "previsores_teste[:,5] = labelEncoder.fit_transform(previsores_teste[:,5])\n",
    "previsores_teste[:,6] = labelEncoder.fit_transform(previsores_teste[:,6])\n",
    "previsores_teste[:,8] = labelEncoder.fit_transform(previsores_teste[:,8])\n",
    "previsores_teste[:,9] = labelEncoder.fit_transform(previsores_teste[:,9])\n",
    "previsores_teste[:,11] = labelEncoder.fit_transform(previsores_teste[:,11])\n",
    "previsores_teste[:,13] = labelEncoder.fit_transform(previsores_teste[:,13])\n",
    "previsores_teste[:,14] = labelEncoder.fit_transform(previsores_teste[:,14])\n",
    "previsores_teste[:,16] = labelEncoder.fit_transform(previsores_teste[:,16])\n",
    "previsores_teste[:,18] = labelEncoder.fit_transform(previsores_teste[:,18])"
   ]
  },
  {
   "cell_type": "code",
   "execution_count": 62,
   "metadata": {},
   "outputs": [
    {
     "data": {
      "text/plain": [
       "array([1, 6, 1, 0, 1169, 4, 3, 4, 3, 2, 4, 0, 67, 1, 2, 2, 1, 1, 1],\n",
       "      dtype=object)"
      ]
     },
     "execution_count": 62,
     "metadata": {},
     "output_type": "execute_result"
    }
   ],
   "source": [
    "previsores_teste[0]"
   ]
  },
  {
   "cell_type": "code",
   "execution_count": 68,
   "metadata": {},
   "outputs": [],
   "source": [
    "pevisao2 = naive_bayes.predict(previsores_teste)"
   ]
  },
  {
   "cell_type": "code",
   "execution_count": 65,
   "metadata": {},
   "outputs": [],
   "source": [
    "classe2 = df_teste.iloc[:,19].values"
   ]
  },
  {
   "cell_type": "code",
   "execution_count": 71,
   "metadata": {},
   "outputs": [
    {
     "data": {
      "text/plain": [
       "array([[554, 146],\n",
       "       [140, 160]], dtype=int64)"
      ]
     },
     "execution_count": 71,
     "metadata": {},
     "output_type": "execute_result"
    }
   ],
   "source": [
    "confusao2 = confusion_matrix(classe2, pevisao2)\n",
    "confusao2"
   ]
  },
  {
   "cell_type": "code",
   "execution_count": 72,
   "metadata": {},
   "outputs": [
    {
     "data": {
      "text/plain": [
       "0.714"
      ]
     },
     "execution_count": 72,
     "metadata": {},
     "output_type": "execute_result"
    }
   ],
   "source": [
    "taxa_acerto2 = accuracy_score(classe2, pevisao2)\n",
    "taxa_acerto2"
   ]
  },
  {
   "cell_type": "code",
   "execution_count": 73,
   "metadata": {},
   "outputs": [
    {
     "data": {
      "text/plain": [
       "0.28600000000000003"
      ]
     },
     "execution_count": 73,
     "metadata": {},
     "output_type": "execute_result"
    }
   ],
   "source": [
    "taxa_erro2 = 1- taxa_acerto2\n",
    "taxa_erro2"
   ]
  }
 ],
 "metadata": {
  "kernelspec": {
   "display_name": "Python 3",
   "language": "python",
   "name": "python3"
  },
  "language_info": {
   "codemirror_mode": {
    "name": "ipython",
    "version": 3
   },
   "file_extension": ".py",
   "mimetype": "text/x-python",
   "name": "python",
   "nbconvert_exporter": "python",
   "pygments_lexer": "ipython3",
   "version": "3.7.1"
  },
  "toc": {
   "base_numbering": 1,
   "nav_menu": {},
   "number_sections": true,
   "sideBar": true,
   "skip_h1_title": false,
   "title_cell": "Table of Contents",
   "title_sidebar": "Contents",
   "toc_cell": false,
   "toc_position": {},
   "toc_section_display": true,
   "toc_window_display": false
  }
 },
 "nbformat": 4,
 "nbformat_minor": 2
}
